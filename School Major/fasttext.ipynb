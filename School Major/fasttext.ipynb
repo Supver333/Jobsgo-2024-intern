{
 "cells": [
  {
   "cell_type": "markdown",
   "id": "c1aa5f6a",
   "metadata": {},
   "source": [
    "standardization"
   ]
  },
  {
   "cell_type": "code",
   "execution_count": 2,
   "id": "6d30062e",
   "metadata": {},
   "outputs": [],
   "source": [
    "from unidecode import unidecode\n",
    "def to_english(s):\n",
    "    s = list(str(s))\n",
    "    for i in range (len(s)):\n",
    "        s[i] = unidecode(s[i])\n",
    "    s1 = \"\"\n",
    "    for i in s:\n",
    "        s1+=i\n",
    "    s1 = s1.lower()\n",
    "    s1 = s1.replace(\".\",\"\")\n",
    "    s1 = s1.replace(\"ha noi\",\"hn\")\n",
    "    s1 = s1.replace(\"city\",\"\")\n",
    "    s1 = s1.replace(\"thanh pho\",\"\")\n",
    "    s1 = s1.replace(\"ho chi minh\",\"hcm\")\n",
    "    s1 = s1.replace(\"tp\",\"\")\n",
    "    s1 = s1.replace(\"-\",\"\")\n",
    "    return \" \".join(s1.split())"
   ]
  },
  {
   "cell_type": "raw",
   "id": "bf5ff13c",
   "metadata": {},
   "source": [
    "with open(\"s.txt\",'r',encoding = 'utf-8') as s:\n",
    "    with open (\"s2.txt\",'w',encoding = 'utf-8') as s2:\n",
    "        for line in s.readlines():\n",
    "            line = line.replace(\"Kỹ thuật\",\"kt\")\n",
    "            line = line.replace(\"Công nghệ\",\"cn\")\n",
    "            line = line.replace(\"Bộ Quốc phòng\",\"bqp\")\n",
    "            s2.write(line)\n",
    "    s2.close()\n",
    "s.close()"
   ]
  },
  {
   "cell_type": "markdown",
   "id": "838911c9",
   "metadata": {},
   "source": [
    "making trainning file"
   ]
  },
  {
   "cell_type": "code",
   "execution_count": 4,
   "id": "aae0efc7",
   "metadata": {},
   "outputs": [],
   "source": [
    "import pandas as pd\n",
    "import fasttext\n",
    "file = pd.read_csv(\"school_list_fasttext.csv\",)\n",
    "with open(\"school_train.txt\",\"w\",encoding = 'utf-8') as f:\n",
    "    for i in range(len(file)):\n",
    "        for column in file:\n",
    "            if column == \"__label__\":\n",
    "                continue\n",
    "            if not pd.isna(file.iloc[i][column]):\n",
    "                f.write(file.iloc[i][\"__label__\"]+ \" \" + to_english(file.iloc[i][column].lower()) +\"\\n\")\n",
    "    f.close()\n",
    "            "
   ]
  },
  {
   "cell_type": "markdown",
   "id": "7ed31d62",
   "metadata": {},
   "source": [
    "making model"
   ]
  },
  {
   "cell_type": "code",
   "execution_count": null,
   "id": "09975242",
   "metadata": {},
   "outputs": [],
   "source": [
    "import fasttext\n",
    "model = fasttext.train_supervised(input = \"school_train.txt\",lr = 1.0,epoch = 15)"
   ]
  },
  {
   "cell_type": "code",
   "execution_count": null,
   "id": "38f64e97",
   "metadata": {
    "scrolled": false
   },
   "outputs": [],
   "source": [
    "import pandas as pd\n",
    "data = pd.read_csv('school_major.csv')\n",
    "lst1 = []\n",
    "lst2 = []\n",
    "for ind in data.index:\n",
    "    n = to_english(\" \".join(str(data.loc[ind][\"school_name\"]).split()))\n",
    "    lst1.append(n)\n",
    "    if \"trung hoc\" in n or \"thcs\" in n or \"thpt\" in n or \"ptth\" in n or \"trung cap\" in n or \"gdtx\" in n or \"giao duc thuong xuyen\" in n:\n",
    "        lst2.append(\"Trung học\")\n",
    "    else:\n",
    "        lst2.append(model.predict(n))\n",
    "data[\"normalized\"] = lst1\n",
    "data[\"predicted\"] = lst2\n",
    "print(data)"
   ]
  },
  {
   "cell_type": "markdown",
   "id": "5a5c0ac6",
   "metadata": {},
   "source": [
    "Self-generating training file"
   ]
  },
  {
   "cell_type": "code",
   "execution_count": null,
   "id": "12facd16",
   "metadata": {},
   "outputs": [],
   "source": [
    "c = pd.read_csv(\"convert_label_school.csv\")\n",
    "convert = dict()\n",
    "for ind in c.index:\n",
    "    convert[c.loc[ind][\"__label__\"]] = c.loc[ind][\"school\"]\n",
    "convert[\"Trung hoc\"] = \"trung hoc\"\n",
    "lst1 = []\n",
    "lst2 = []\n",
    "for ind in data.index:\n",
    "    if data.loc[ind][\"predicted\"] == \"Trung học\":\n",
    "        lst1.append(\"trung hoc\")\n",
    "        lst2.append(\"100\")\n",
    "        continue\n",
    "    lst1.append(convert[data.loc[ind][\"predicted\"][0][0]])\n",
    "    lst2.append(data.loc[ind][\"predicted\"][1][0])\n",
    "data[\"school_predict\"] = lst1\n",
    "data[\"confidence\"] = lst2\n",
    "data.drop(\"predicted\", axis = 1, inplace=True)\n",
    "print(data)"
   ]
  },
  {
   "cell_type": "code",
   "execution_count": null,
   "id": "d12c89a8",
   "metadata": {},
   "outputs": [],
   "source": [
    "data.to_csv(\"testing.csv\")"
   ]
  },
  {
   "cell_type": "code",
   "execution_count": null,
   "id": "2c37c804",
   "metadata": {},
   "outputs": [],
   "source": []
  },
  {
   "cell_type": "markdown",
   "id": "da6e137f",
   "metadata": {},
   "source": [
    "test_data = pd.read_csv(\"finalized.csv\")\n",
    "test_data.drop(\"Unnamed: 0\",axis = 1,inplace = True)\n",
    "print(test_data)"
   ]
  },
  {
   "cell_type": "markdown",
   "id": "7d4d0e4f",
   "metadata": {},
   "source": [
    "Model using example.csv"
   ]
  },
  {
   "cell_type": "code",
   "execution_count": 37,
   "id": "83c848f0",
   "metadata": {},
   "outputs": [],
   "source": [
    "test_data = pd.read_csv(\"example.csv\")\n",
    "test_data.drop(\"Unnamed: 0\",axis = 1,inplace = True)"
   ]
  },
  {
   "cell_type": "code",
   "execution_count": 38,
   "id": "1447131e",
   "metadata": {},
   "outputs": [
    {
     "name": "stdout",
     "output_type": "stream",
     "text": [
      "                                school_name            specialization  \\\n",
      "0                                    DHBKHN                      CNTT   \n",
      "1                    vien dai hoc mo ha noi  khoa công nghệ thông tin   \n",
      "2                    Viện đại học Mở Hà Nội  Khoa công nghệ thông tin   \n",
      "3                                       Fpt                   Android   \n",
      "4                     Dh công nghiệp hà nội       công nghệ thông tin   \n",
      "...                                     ...                       ...   \n",
      "9994                       Đại học Thủy Lợi              Chuyên ngành   \n",
      "9995                       dai hoc thuy loi              Chuyên ngành   \n",
      "9996                        đại học luật                 hình sự   \n",
      "9997  trường trung cấp nghề cơ khí 1 hà nội      ngành  nguội chế tạo   \n",
      "9998              đại học công nghệ sài gòn       quản trị kinh doanh   \n",
      "\n",
      "                   normalized_school  \\\n",
      "0               đại học bách khoa hn   \n",
      "1             vien đại học mo ha noi   \n",
      "2             viện đại học mở hà nội   \n",
      "3                                fpt   \n",
      "4         đại học công nghiệp hà nội   \n",
      "...                              ...   \n",
      "9994                đại học thủy lợi   \n",
      "9995                đại học thuy loi   \n",
      "9996                 đại học luật   \n",
      "9997  trung cấp nghề cơ khí 1 hà nội   \n",
      "9998       đại học công nghệ sài gòn   \n",
      "\n",
      "                                      predicted_school  \\\n",
      "0     (0.7368421052631579, 'đại học bách khoa hà nội')   \n",
      "1                             (0.35, 'đại học monash')   \n",
      "2                      (1.0, 'viện đại học mở hà nội')   \n",
      "3                                 (1.0, 'đại học fpt')   \n",
      "4                  (1.0, 'đại học công nghiệp hà nội')   \n",
      "...                                                ...   \n",
      "9994                         (1.0, 'đại học thủy lợi')   \n",
      "9995                         (0.5, 'đại học thủy lợi')   \n",
      "9996         (0.23529411764705882, 'đại học luân đôn')   \n",
      "9997                 (0.3333333333333333, 'trung cấp')   \n",
      "9998                (1.0, 'đại học công nghệ sài gòn')   \n",
      "\n",
      "              normalized_major                                predicted_major  \\\n",
      "0          công nghệ thông tin                   (1.0, 'công nghệ thông tin')   \n",
      "1     khoa công nghệ thông tin                  (0.75, 'công nghệ thông tin')   \n",
      "2     khoa công nghệ thông tin                  (0.75, 'công nghệ thông tin')   \n",
      "3                      android          (0.16666666666666666, 'thủy văn học')   \n",
      "4          công nghệ thông tin                   (1.0, 'công nghệ thông tin')   \n",
      "...                        ...                                            ...   \n",
      "9994                       NaN  (0.0, 'lý luận lịch sử và phê bình mỹ thuật')   \n",
      "9995                       NaN  (0.0, 'lý luận lịch sử và phê bình mỹ thuật')   \n",
      "9996                  hi nh sư                              (0.25, 'kinh tế')   \n",
      "9997       ngành nguội chế tạo    (0.2857142857142857, 'tài chính ngân hàng')   \n",
      "9998       quản trị kinh doanh                   (1.0, 'quản trị kinh doanh')   \n",
      "\n",
      "      accuracy_school             school_predict  \n",
      "0            0.736842       dai hoc bach khoa hn  \n",
      "1            0.350000             dai hoc monash  \n",
      "2            1.000000         vien dai hoc mo hn  \n",
      "3            1.000000                dai hoc fpt  \n",
      "4            1.000000     dai hoc cong nghiep hn  \n",
      "...               ...                        ...  \n",
      "9994         1.000000           dai hoc thuy loi  \n",
      "9995         0.500000           dai hoc thuy loi  \n",
      "9996         0.235294           dai hoc luan don  \n",
      "9997         0.333333                  trung cap  \n",
      "9998         1.000000  dai hoc cong nghe sai gon  \n",
      "\n",
      "[9999 rows x 8 columns]\n"
     ]
    }
   ],
   "source": [
    "lst1 = []\n",
    "lst2 = []\n",
    "for ind in test_data.index:\n",
    "    test_acc = test_data.loc[ind][\"predicted_school\"].split(\",\")\n",
    "    lst1.append(float(test_acc[0].replace(\"(\",\"\")))\n",
    "    lst2.append(to_english(test_acc[1].replace(\")\",\"\").replace(\"'\",\"\")))\n",
    "test_data = test_data.assign(accuracy_school = lst1,)\n",
    "test_data = test_data.assign(school_predict = lst2,)\n",
    "print(test_data)"
   ]
  },
  {
   "cell_type": "code",
   "execution_count": 39,
   "id": "77ae8bc1",
   "metadata": {},
   "outputs": [],
   "source": [
    "import random\n",
    "test_data = test_data[test_data.accuracy_school>0.7].reset_index(drop = True)\n",
    "train = dict()\n",
    "train[\"school_name\"] = []\n",
    "train[\"school_predict\"] = []\n",
    "test = dict()\n",
    "test[\"school_name\"] = []\n",
    "test[\"school_predict\"] = []\n",
    "for ind in test_data.index:\n",
    "    num = random.randint(1,4)\n",
    "    if num == 1:\n",
    "        test[\"school_name\"].append(to_english(test_data.loc[ind][\"school_name\"]))\n",
    "        test[\"school_predict\"].append(\"__label__\" + to_english(test_data.loc[ind][\"school_predict\"]).replace(\" \",\"-\"))\n",
    "    else:\n",
    "        train[\"school_name\"].append(to_english(test_data.loc[ind][\"school_name\"]))\n",
    "        train[\"school_predict\"].append(\"__label__\" + to_english(test_data.loc[ind][\"school_predict\"]).replace(\" \",\"-\"))\n",
    "testing_set = pd.DataFrame(test)\n",
    "training_set = pd.DataFrame(train)\n",
    "with open(\"training_set.txt\",'w',encoding = 'utf-8') as f:\n",
    "    for i in range(len(train[\"school_predict\"])):\n",
    "        f.write(train[\"school_predict\"][i] + \" \" + train[\"school_name\"][i] + \"\\n\")\n",
    "    f.close()\n",
    "with open(\"testing_set.txt\",'w',encoding = 'utf-8') as f:\n",
    "    for i in range(len(test[\"school_predict\"])):\n",
    "        f.write(test[\"school_predict\"][i] + \" \" + test[\"school_name\"][i] + \"\\n\")\n",
    "    f.close()\n",
    "testing_set.to_csv(\"testing_set.csv\")\n",
    "training_set.to_csv(\"training_set.csv\")"
   ]
  },
  {
   "cell_type": "code",
   "execution_count": 40,
   "id": "94852936",
   "metadata": {},
   "outputs": [],
   "source": [
    "model_x = fasttext.train_supervised(input=\"training_set.txt\",lr = 1.0, epoch = 25)"
   ]
  },
  {
   "cell_type": "code",
   "execution_count": 43,
   "id": "3c840ac7",
   "metadata": {},
   "outputs": [
    {
     "data": {
      "text/plain": [
       "(1632, 0.9675245098039216, 0.9675245098039216)"
      ]
     },
     "execution_count": 43,
     "metadata": {},
     "output_type": "execute_result"
    }
   ],
   "source": [
    "model_x.test(\"testing_set.txt\")"
   ]
  },
  {
   "cell_type": "code",
   "execution_count": 42,
   "id": "005d77af",
   "metadata": {},
   "outputs": [],
   "source": [
    "model_x.save_model(\"model_ex.bin\")"
   ]
  },
  {
   "cell_type": "code",
   "execution_count": null,
   "id": "5f5f96b0",
   "metadata": {},
   "outputs": [],
   "source": [
    "model using finalized.csv"
   ]
  },
  {
   "cell_type": "code",
   "execution_count": 44,
   "id": "e18e901f",
   "metadata": {},
   "outputs": [
    {
     "name": "stdout",
     "output_type": "stream",
     "text": [
      "                         school                 school_norm  \\\n",
      "0                        DHBKHN    dai hoc bach khoa ha noi   \n",
      "1        vien dai hoc mo ha noi      vien dai hoc mo ha noi   \n",
      "2        Viện đại học Mở Hà Nội      vien dai hoc mo ha noi   \n",
      "3                           Fpt                         fpt   \n",
      "4         Dh công nghiệp hà nội  dai hoc cong nghiep ha noi   \n",
      "...                         ...                         ...   \n",
      "9992    cao dang Co Dien Ha Noi     cao dang co dien ha noi   \n",
      "9994           Đại học Thủy Lợi            dai hoc thuy loi   \n",
      "9995           dai hoc thuy loi            dai hoc thuy loi   \n",
      "9996            đại học luật                dai hoc luat   \n",
      "9998  đại học công nghệ sài gòn   dai hoc cong nghe sai gon   \n",
      "\n",
      "                                school_standard            specialization  \\\n",
      "0                      Đại học Bách khoa Hà Nội                      CNTT   \n",
      "1                      Trường Đại học Mở Hà Nội  khoa công nghệ thông tin   \n",
      "2                      Trường Đại học Mở Hà Nội  Khoa công nghệ thông tin   \n",
      "3                            Trường Đại học FPT                   Android   \n",
      "4             Trường Đại học Công nghiệp Hà Nội       công nghệ thông tin   \n",
      "...                                         ...                       ...   \n",
      "9992        Trường Cao đẳng nghề Cơ điện Hà Nội             công nghệ ôtô   \n",
      "9994                    Trường Đại học Thuỷ lợi              Chuyên ngành   \n",
      "9995                    Trường Đại học Thuỷ lợi              Chuyên ngành   \n",
      "9996  Trường Đại học Luật Thành phố Hồ Chí Minh                 hình sự   \n",
      "9998           Trường Đại học Công nghệ Sài Gòn       quản trị kinh doanh   \n",
      "\n",
      "           specialization_norm specialization_standard  school_p_score  \\\n",
      "0          cong nghe thong tin     Công nghệ thông tin             100   \n",
      "1     khoa cong nghe thong tin     Công nghệ thông tin             100   \n",
      "2     khoa cong nghe thong tin     Công nghệ thông tin             100   \n",
      "3                      android                 Android             100   \n",
      "4          cong nghe thong tin     Công nghệ thông tin             100   \n",
      "...                        ...                     ...             ...   \n",
      "9992                 trung hoc               Trung Học             100   \n",
      "9994                 trung hoc               Trung Học             100   \n",
      "9995                 trung hoc               Trung Học             100   \n",
      "9996                 trung hoc               Trung Học             100   \n",
      "9998                 trung hoc               Trung Học             100   \n",
      "\n",
      "      school_r_score  specialization_p_score  specialization_r_score  \n",
      "0                100                     100                     100  \n",
      "1                 87                     100                      88  \n",
      "2                 87                     100                      88  \n",
      "3                 35                     100                     100  \n",
      "4                100                     100                     100  \n",
      "...              ...                     ...                     ...  \n",
      "9992              90                     100                     100  \n",
      "9994             100                     100                     100  \n",
      "9995             100                     100                     100  \n",
      "9996              86                     100                     100  \n",
      "9998             100                     100                     100  \n",
      "\n",
      "[7689 rows x 10 columns]\n"
     ]
    }
   ],
   "source": [
    "test_data = pd.read_csv(\"finalized.csv\")\n",
    "test_data.drop(\"Unnamed: 0\",axis = 1,inplace = True)\n",
    "test_data = test_data[(test_data['school_p_score'] > 90) | (test_data['school_r_score']>95)]\n",
    "train = dict()\n",
    "train[\"school_name\"] = []\n",
    "train[\"school_predict\"] = []\n",
    "test = dict()\n",
    "test[\"school_name\"] = []\n",
    "test[\"school_predict\"] = []\n",
    "for ind in test_data.index:\n",
    "    num = random.randint(1,4)\n",
    "    if num == 1:\n",
    "        test[\"school_name\"].append(to_english(test_data.loc[ind][\"school\"]))\n",
    "        test[\"school_predict\"].append(\"__label__\" + to_english(test_data.loc[ind][\"school_standard\"]).replace(\" \",\"-\"))\n",
    "    else:\n",
    "        train[\"school_name\"].append(to_english(test_data.loc[ind][\"school\"]))\n",
    "        train[\"school_predict\"].append(\"__label__\" + to_english(test_data.loc[ind][\"school_standard\"]).replace(\" \",\"-\"))\n",
    "with open(\"training_set_f.txt\",'w',encoding = 'utf-8') as f:\n",
    "    for i in range(len(train[\"school_predict\"])):\n",
    "        f.write(train[\"school_predict\"][i] + \" \" + train[\"school_name\"][i] + \"\\n\")\n",
    "    f.close()\n",
    "with open(\"testing_set_f.txt\",'w',encoding = 'utf-8') as f:\n",
    "    for i in range(len(test[\"school_predict\"])):\n",
    "        f.write(test[\"school_predict\"][i] + \" \" + test[\"school_name\"][i] + \"\\n\")\n",
    "    f.close()\n",
    "print(test_data)"
   ]
  },
  {
   "cell_type": "code",
   "execution_count": 45,
   "id": "3bace6cf",
   "metadata": {},
   "outputs": [],
   "source": [
    "model_f = fasttext.train_supervised(input = 'training_set_f.txt',lr = 1.0, epoch = 25)"
   ]
  },
  {
   "cell_type": "code",
   "execution_count": 47,
   "id": "49396976",
   "metadata": {},
   "outputs": [
    {
     "data": {
      "text/plain": [
       "(1943, 0.9660319094184251, 0.9660319094184251)"
      ]
     },
     "execution_count": 47,
     "metadata": {},
     "output_type": "execute_result"
    }
   ],
   "source": [
    "model_f.test('testing_set_f.txt')"
   ]
  },
  {
   "cell_type": "code",
   "execution_count": 49,
   "id": "c8fcd868",
   "metadata": {},
   "outputs": [],
   "source": [
    "model_f.save_model(\"model_f.bin\")"
   ]
  },
  {
   "cell_type": "markdown",
   "id": "34b891a0",
   "metadata": {},
   "source": [
    "Experimenting"
   ]
  },
  {
   "cell_type": "code",
   "execution_count": null,
   "id": "f08645f2",
   "metadata": {},
   "outputs": [],
   "source": [
    "convert_test_fasttext = dict()\n",
    "for school in test_data[\"school_predict\"].unique():\n",
    "    n = model.predict(school)\n",
    "    convert_test_fasttext[school] = [n[0][0],n[1][0]]\n",
    "additional_data = pd.DataFrame(convert_test_fasttext.values(),index = convert_test_fasttext.keys())\n",
    "additional_data = additional_data.rename(columns={0:'label',1:'score'})\n",
    "additional_data.to_csv(\"additional_data.csv\")\n",
    "print(additional_data)"
   ]
  },
  {
   "cell_type": "code",
   "execution_count": null,
   "id": "175b3f62",
   "metadata": {},
   "outputs": [],
   "source": [
    "import pandas as pd\n",
    "new_data = pd.read_csv(\"new_data.csv\")\n",
    "new_data.dropna(inplace=True)\n",
    "with open(\"school_train.txt\",\"a\",encoding = 'utf-8') as f:\n",
    "    f.write(\"\\n\")\n",
    "    for ind in new_data.index:\n",
    "        f.write(new_data.loc[ind][\"__label__\"] + \" \" + new_data.loc[ind][\"school\"] + \"\\n\")\n",
    "    f.close()\n",
    "print(new_data)"
   ]
  },
  {
   "cell_type": "code",
   "execution_count": null,
   "id": "abe01555",
   "metadata": {},
   "outputs": [],
   "source": [
    "with open(\"s2.txt\",'w',encoding = 'utf-8') as f:\n",
    "    school_track = []\n",
    "    for ind in test_data.index:\n",
    "        if to_english(test_data.loc[ind][\"school_name\"]) in school_track:\n",
    "            continue        found = False\n",
    "        track = 0\n",
    "        school_track.append(to_english(test_data.loc[ind][\"school_name\"]))\n",
    "        for ind_s in new_data.index:\n",
    "            if test_data.loc[ind][\"school_predict\"] == new_data.loc[ind_s][\"school\"]:\n",
    "                track = ind_s\n",
    "                found = True\n",
    "                break\n",
    "        if found and test_data.loc[ind][\"accuracy_school\"] >= 0.90:\n",
    "            f.write(new_data.loc[ind_s][\"__label__\"] + \" \" + to_english(test_data.loc[ind][\"school_name\"]) + \"\\n\")\n",
    "    f.close()\n",
    "            "
   ]
  },
  {
   "cell_type": "code",
   "execution_count": null,
   "id": "56359714",
   "metadata": {},
   "outputs": [],
   "source": [
    "check = set()\n",
    "with open(\"school_train.txt\",'r',encoding = 'utf-8') as f:\n",
    "    for line in f.readlines():\n",
    "        check.add(line)\n",
    "    f.close()\n",
    "with open(\"s2.txt\",'w',encoding = 'utf-8') as f:\n",
    "    for line in check:\n",
    "        f.write(line)\n",
    "    f.close()\n",
    "print(len(check))\n",
    "print(check)"
   ]
  }
 ],
 "metadata": {
  "kernelspec": {
   "display_name": "Python 3 (ipykernel)",
   "language": "python",
   "name": "python3"
  },
  "language_info": {
   "codemirror_mode": {
    "name": "ipython",
    "version": 3
   },
   "file_extension": ".py",
   "mimetype": "text/x-python",
   "name": "python",
   "nbconvert_exporter": "python",
   "pygments_lexer": "ipython3",
   "version": "3.11.7"
  }
 },
 "nbformat": 4,
 "nbformat_minor": 5
}

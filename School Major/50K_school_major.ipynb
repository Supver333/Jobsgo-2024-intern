{
 "cells": [
  {
   "cell_type": "code",
   "execution_count": 402,
   "id": "75a31022",
   "metadata": {},
   "outputs": [],
   "source": [
    "import jsonlines\n",
    "def jsonl_to_data(filename):\n",
    "    data = {}\n",
    "    with jsonlines.open(filename) as reader:\n",
    "        for line in reader:\n",
    "            try:\n",
    "                data[line['id']] = line\n",
    "            except Exception as ex:\n",
    "                print(ex, line)\n",
    "    return data"
   ]
  },
  {
   "cell_type": "code",
   "execution_count": 403,
   "id": "6b7a4685",
   "metadata": {},
   "outputs": [],
   "source": [
    "from unidecode import unidecode\n",
    "import string\n",
    "def to_english(s):\n",
    "    s = list(str(s))\n",
    "    for i in range (len(s)):\n",
    "        s[i] = unidecode(s[i])\n",
    "    s1 = \"\"\n",
    "    for i in s:\n",
    "        s1+=i\n",
    "    s1 = s1.lower()\n",
    "    s1 = s1.translate(str.maketrans('', '', string.punctuation))\n",
    "    return \" \".join(s1.split())"
   ]
  },
  {
   "cell_type": "code",
   "execution_count": 404,
   "id": "7923c6da",
   "metadata": {},
   "outputs": [],
   "source": [
    "import fasttext\n",
    "model_school = fasttext.load_model('model_ex.bin')\n",
    "model_major = fasttext.load_model('model_ex_major.bin')"
   ]
  },
  {
   "cell_type": "code",
   "execution_count": 405,
   "id": "f5c06daa",
   "metadata": {},
   "outputs": [],
   "source": [
    "data = jsonl_to_data('50k_candidates_for_Tri.jsonl')"
   ]
  },
  {
   "cell_type": "code",
   "execution_count": 406,
   "id": "2c478a3a",
   "metadata": {},
   "outputs": [],
   "source": [
    "import pandas as pd\n",
    "df = pd.DataFrame(data)"
   ]
  },
  {
   "cell_type": "code",
   "execution_count": 407,
   "id": "dbd631dc",
   "metadata": {},
   "outputs": [],
   "source": [
    "df = df.transpose()"
   ]
  },
  {
   "cell_type": "code",
   "execution_count": 408,
   "id": "052b556d",
   "metadata": {},
   "outputs": [],
   "source": [
    "df = df[df['education'].map(lambda d: len(d)) > 0]\n",
    "df = df[df['work_history'].map(lambda d: len(d)) > 0]"
   ]
  },
  {
   "cell_type": "code",
   "execution_count": 409,
   "id": "c162cea5",
   "metadata": {},
   "outputs": [
    {
     "name": "stdout",
     "output_type": "stream",
     "text": [
      "                 degree                                  school  \\\n",
      "0              Cao Đẳng                 Cao Đẳng Du Lịch Hà Nội   \n",
      "1              Cao Đẳng                 Cao Đẳng Du Lịch Hà Nội   \n",
      "2              Cao Đẳng                 Cao Đẳng Du Lịch Hà Nội   \n",
      "3               Đại Học  Trường Đại học Kinh tế tp. Hồ Chí Minh   \n",
      "4               Đại Học  Trường Đại học Kinh tế tp. Hồ Chí Minh   \n",
      "...                 ...                                     ...   \n",
      "54911           Đại Học                        Đại học Thủy Lợi   \n",
      "54912           Đại Học              Đại học Công Nghiệp TP.HCM   \n",
      "54913           Đại Học              Đại học Công Nghiệp TP.HCM   \n",
      "54914  Trung cấp - Nghề                                    THPT   \n",
      "54915  Trung cấp - Nghề                                    THPT   \n",
      "\n",
      "                       major    education_period  \\\n",
      "0        Quản trị kinh doanh      [-01, 2015-01]   \n",
      "1        Quản trị kinh doanh      [-01, 2015-01]   \n",
      "2        Quản trị kinh doanh      [-01, 2015-01]   \n",
      "3        Quản trị kinh doanh      [-01, 2024-01]   \n",
      "4        Quản trị kinh doanh      [-01, 2024-01]   \n",
      "...                      ...                 ...   \n",
      "54911       Kế toán, Kế toán        [2021, 2025]   \n",
      "54912  Tài Chính – Ngân Hàng        [2008, 2013]   \n",
      "54913  Tài Chính – Ngân Hàng        [2008, 2013]   \n",
      "54914                   None  [2010-01, 2010-01]   \n",
      "54915                   None  [2010-01, 2010-01]   \n",
      "\n",
      "                              work_title                          company  \\\n",
      "0                              nhân viên                      Cổ phần IK    \n",
      "1                   nhân viên kinh doanh               Công ty cổ phần IK   \n",
      "2                       nhân viên lái xe               Công ty cổ phần IK   \n",
      "3                            chuyên viên             Bất động sản Nhà phố   \n",
      "4                  tổ trưởng tổ thiết kế                   Báo Thanh Niên   \n",
      "...                                  ...                              ...   \n",
      "54911  nhân viên tư vấn nhân viên tư vấn                   Kiki Soft Ware   \n",
      "54912                        nhóm trưởng      Cty Toàn cầu LIXIL Việt Nam   \n",
      "54913                     trưởng bộ phận  CÔNG TY TNHH MTV HOA SEN PHÚ MỸ   \n",
      "54914                               sale                  Công ty tư nhân   \n",
      "54915                               sale                  Công ty tư nhân   \n",
      "\n",
      "              work_period  \n",
      "0      [2017-01, 2024-01]  \n",
      "1       [2017-2020, None]  \n",
      "2       [2020-2024, None]  \n",
      "3      [2023-01, 2024-01]  \n",
      "4      [2008-05, 2022-05]  \n",
      "...                   ...  \n",
      "54911  [2023-04, 2024-01]  \n",
      "54912  [2019-04, 2021-04]  \n",
      "54913        [2021, 2024]  \n",
      "54914     [2019-09, None]  \n",
      "54915     [2022-09, None]  \n",
      "\n",
      "[54916 rows x 7 columns]\n"
     ]
    }
   ],
   "source": [
    "p_data = dict()\n",
    "p_data['degree'] = []\n",
    "p_data['school'] = []\n",
    "p_data['major'] = []\n",
    "p_data['education_period'] = []\n",
    "p_data['work_title'] = []\n",
    "p_data['company'] = []\n",
    "p_data['work_period'] = []\n",
    "for ind in df.index:\n",
    "    education = df.loc[ind]['education']\n",
    "    for i in education:\n",
    "        for j in df.loc[ind]['work_history']:\n",
    "            p_data['work_title'].append(j['title'])\n",
    "            p_data['company'].append(j['company'])\n",
    "            p_data['work_period'].append(j['period'])\n",
    "            p_data['degree'].append(i['degree'])\n",
    "            p_data['school'].append(i['school'])\n",
    "            p_data['major'].append(i['major'])\n",
    "            p_data['education_period'].append(i['period'])\n",
    "p_data = pd.DataFrame(p_data)\n",
    "print(p_data)                   "
   ]
  },
  {
   "cell_type": "code",
   "execution_count": 410,
   "id": "9c38ccbd",
   "metadata": {},
   "outputs": [],
   "source": [
    "p_data = p_data.drop(['degree'],axis = 1)"
   ]
  },
  {
   "cell_type": "code",
   "execution_count": 411,
   "id": "587c0828",
   "metadata": {},
   "outputs": [],
   "source": [
    "p_data = p_data.dropna()"
   ]
  },
  {
   "cell_type": "code",
   "execution_count": 412,
   "id": "e12e4893",
   "metadata": {},
   "outputs": [],
   "source": [
    "school_predicted = []\n",
    "school_confidence = []\n",
    "major_predicted = []\n",
    "major_confidence = []\n",
    "for ind in p_data.index:\n",
    "    school_predicted.append(model_school.predict(to_english(p_data.loc[ind]['school']))[0][0][9:].replace(\"-\",\" \").replace(\"   \",\" - \"))\n",
    "    school_confidence.append(model_school.predict(to_english(p_data.loc[ind]['school']))[1][0])\n",
    "    major_predicted.append(model_major.predict(to_english(p_data.loc[ind]['major']))[0][0][9:].replace(\"-\",\" \").replace(\"   \",\" - \"))\n",
    "    major_confidence.append(model_major.predict(to_english(p_data.loc[ind]['major']))[1][0])\n"
   ]
  },
  {
   "cell_type": "code",
   "execution_count": 413,
   "id": "163d2453",
   "metadata": {},
   "outputs": [],
   "source": [
    "p_data[\"school_predicted\"] = school_predicted\n",
    "p_data['school_confidence'] = school_confidence\n",
    "p_data['major_predicted'] = major_predicted\n",
    "p_data['major_confidence'] = major_confidence"
   ]
  },
  {
   "cell_type": "code",
   "execution_count": 414,
   "id": "3564a255",
   "metadata": {},
   "outputs": [],
   "source": [
    "f_data = p_data[(p_data.school_confidence>0.9) &  (p_data.major_confidence>0.9)]"
   ]
  },
  {
   "cell_type": "code",
   "execution_count": 415,
   "id": "c5ea02b0",
   "metadata": {},
   "outputs": [],
   "source": [
    "f_data = f_data.reset_index(drop = True)"
   ]
  },
  {
   "cell_type": "code",
   "execution_count": 416,
   "id": "72a42be8",
   "metadata": {},
   "outputs": [],
   "source": [
    "start_date_school = []\n",
    "end_date_school = []\n",
    "for ind in f_data.index:\n",
    "    start_date_school.append(f_data.loc[ind]['education_period'][0])\n",
    "    end_date_school.append(f_data.loc[ind]['education_period'][1])\n",
    "f_data['start_date_school'] = start_date_school\n",
    "f_data['end_date_school'] = end_date_school"
   ]
  },
  {
   "cell_type": "code",
   "execution_count": 417,
   "id": "2529ad86",
   "metadata": {},
   "outputs": [],
   "source": [
    "start_date_work = []\n",
    "end_date_work = []\n",
    "for ind in f_data.index:\n",
    "    start_date_work.append(f_data.loc[ind]['work_period'][0])\n",
    "    end_date_work.append(f_data.loc[ind]['work_period'][1])\n",
    "f_data['start_date_work'] = start_date_work\n",
    "f_data['end_date_work'] = end_date_work"
   ]
  },
  {
   "cell_type": "code",
   "execution_count": 418,
   "id": "82c346ce",
   "metadata": {},
   "outputs": [],
   "source": [
    "import re\n",
    "import datetime\n",
    "import dateutil.parser as parser \n",
    "end_year_school = []\n",
    "def is_number(s):\n",
    "    try:\n",
    "        float(s)\n",
    "        return True\n",
    "    except ValueError:\n",
    "        return False\n",
    "for ind in f_data.index:\n",
    "    if f_data.loc[ind]['end_date_school'] == 'None' or f_data.loc[ind]['end_date_school']=='-1':\n",
    "        check = False\n",
    "        track = f_data.loc[ind]['start_date_school'].replace('/',' ').replace('-',' ').split()\n",
    "        for i in range(len(track)):\n",
    "            if len(track[len(track)-1-i])==4 and is_number(track[len(track)-1-i]):\n",
    "                end_year_school.append(int(track[len(track)-1-i]))\n",
    "                check = True\n",
    "                break\n",
    "        if not check:\n",
    "            end_year_school.append(-1)\n",
    "    else:\n",
    "        check = False\n",
    "        track = f_data.loc[ind]['end_date_school'].replace('/',' ').replace('-',' ').split()\n",
    "        for i in range(len(track)):\n",
    "            if len(track[len(track)-1-i])==4 and is_number(track[len(track)-1-i]):\n",
    "                end_year_school.append(int(track[len(track)-1-i]))\n",
    "                check = True\n",
    "                break\n",
    "        if not check:\n",
    "            end_year_school.append(-1)"
   ]
  },
  {
   "cell_type": "code",
   "execution_count": 419,
   "id": "477f8260",
   "metadata": {},
   "outputs": [],
   "source": [
    "f_data['end_year_school'] = end_year_school "
   ]
  },
  {
   "cell_type": "code",
   "execution_count": 420,
   "id": "5b53a270",
   "metadata": {},
   "outputs": [],
   "source": [
    "f_data = f_data[f_data.end_year_school>0]"
   ]
  },
  {
   "cell_type": "code",
   "execution_count": null,
   "id": "5db72113",
   "metadata": {},
   "outputs": [],
   "source": []
  },
  {
   "cell_type": "code",
   "execution_count": 421,
   "id": "52311e3a",
   "metadata": {},
   "outputs": [],
   "source": [
    "start_year_work = []\n",
    "end_year_work = []\n",
    "for ind in f_data.index:\n",
    "    if f_data.loc[ind]['start_date_work'] == 'None' or f_data.loc[ind]['start_date_work'] == '-01':\n",
    "        check_s = False\n",
    "        check_e = False\n",
    "        track = f_data.loc[ind]['end_date_work'].replace('/',' ').replace('-',' ').split()\n",
    "        for i in range(len(track)):\n",
    "            if len(track[i])==4 and is_number(track[i]):\n",
    "                start_year_work.append(int(track[i]))\n",
    "                check_s = True\n",
    "                break\n",
    "        for i in range(len(track)):\n",
    "            if len(track[len(track)-1-i])==4 and is_number(track[len(track)-1-i]):\n",
    "                end_year_work.append(int(track[len(track)-1-i]))\n",
    "                check_e = True\n",
    "                break\n",
    "        if check_s == False:\n",
    "            start_year_work.append(-1)\n",
    "        if check_e == False:\n",
    "            end_year_work.append(-1)\n",
    "    elif f_data.loc[ind]['end_date_work'] == 'None' or f_data.loc[ind]['end_date_work'] == '-01':\n",
    "        check_s = False\n",
    "        check_e = False\n",
    "        track = f_data.loc[ind]['start_date_work'].replace('/',' ').replace('-',' ').split()\n",
    "        for i in range(len(track)):\n",
    "            if len(track[i])==4 and is_number(track[i]):\n",
    "                start_year_work.append(int(track[i]))\n",
    "                check_s = True\n",
    "                break\n",
    "        for i in range(len(track)):\n",
    "            if len(track[len(track)-1-i])==4 and is_number(track[len(track)-1-i]):\n",
    "                end_year_work.append(int(track[len(track)-1-i]))\n",
    "                check_e = True\n",
    "                break\n",
    "        if not check_s:\n",
    "            start_year_work.append(-1)\n",
    "        if not check_e:\n",
    "            end_year_work.append(-1)\n",
    "    else:\n",
    "        check_s = False\n",
    "        check_e = False\n",
    "        track = f_data.loc[ind]['start_date_work'].replace('/',' ').replace('-',' ').split()\n",
    "        for i in range(len(track)):\n",
    "            if len(track[i])==4 and is_number(track[i]):\n",
    "                start_year_work.append(int(track[i]))\n",
    "                check_s = True\n",
    "                break\n",
    "        track = f_data.loc[ind]['end_date_work'].replace('/',' ').replace('-',' ').split()\n",
    "        for i in range(len(track)):\n",
    "            if len(track[len(track)-1-i])==4 and is_number(track[len(track)-1-i]):\n",
    "                end_year_work.append(int(track[len(track)-1-i]))\n",
    "                check_e = True\n",
    "                break\n",
    "        if not check_s:\n",
    "            start_year_work.append(-1)\n",
    "        if not check_e:\n",
    "            end_year_work.append(-1)\n",
    "f_data['start_year_work'] = start_year_work\n",
    "f_data['end_year_work'] = end_year_work"
   ]
  },
  {
   "cell_type": "code",
   "execution_count": 422,
   "id": "7ff656b1",
   "metadata": {},
   "outputs": [],
   "source": [
    "f_data = f_data[(f_data.start_year_work>1900) & (f_data.end_year_work>1900)]"
   ]
  },
  {
   "cell_type": "code",
   "execution_count": null,
   "id": "80cbd7ca",
   "metadata": {},
   "outputs": [],
   "source": [
    "year_category = []\n",
    "for ind in f_data.index:\n",
    "    grad = f_data.loc[ind]['end_year_school']\n",
    "    start = f_data.loc[ind]['start_year_work']\n",
    "    end = f_data.loc[ind]['end_year_work']\n",
    "    res = []\n",
    "    if start <= grad +1:\n",
    "        res.append(0)\n",
    "    if start <=grad + 3 and end>= grad + 3:\n",
    "        res.append(3)\n",
    "    if start <= grad + 5 and end >= grad + 5:\n",
    "        res.append(5)\n",
    "    year_category.append(res)\n",
    "f_data['year_category'] = year_category"
   ]
  },
  {
   "cell_type": "code",
   "execution_count": 427,
   "id": "05991e5e",
   "metadata": {},
   "outputs": [],
   "source": [
    "f_data.to_csv('50K_school_major_year.csv')"
   ]
  },
  {
   "cell_type": "code",
   "execution_count": 426,
   "id": "ec8fa4a0",
   "metadata": {},
   "outputs": [
    {
     "name": "stdout",
     "output_type": "stream",
     "text": [
      "                                       school                  major  \\\n",
      "0                     Cao Đẳng Du Lịch Hà Nội    Quản trị kinh doanh   \n",
      "1                     Cao Đẳng Du Lịch Hà Nội    Quản trị kinh doanh   \n",
      "2                     Cao Đẳng Du Lịch Hà Nội    Quản trị kinh doanh   \n",
      "3      Trường Đại học Kinh tế tp. Hồ Chí Minh    Quản trị kinh doanh   \n",
      "4      Trường Đại học Kinh tế tp. Hồ Chí Minh    Quản trị kinh doanh   \n",
      "...                                       ...                    ...   \n",
      "22755                        Đại học Thủy Lợi       Kế toán, Kế toán   \n",
      "22756                        Đại học Thủy Lợi       Kế toán, Kế toán   \n",
      "22757                        Đại học Thủy Lợi       Kế toán, Kế toán   \n",
      "22758              Đại học Công Nghiệp TP.HCM  Tài Chính – Ngân Hàng   \n",
      "22759              Đại học Công Nghiệp TP.HCM  Tài Chính – Ngân Hàng   \n",
      "\n",
      "      education_period                                         work_title  \\\n",
      "0       [-01, 2015-01]                                          nhân viên   \n",
      "1       [-01, 2015-01]                               nhân viên kinh doanh   \n",
      "2       [-01, 2015-01]                                   nhân viên lái xe   \n",
      "3       [-01, 2024-01]                                        chuyên viên   \n",
      "4       [-01, 2024-01]                              tổ trưởng tổ thiết kế   \n",
      "...                ...                                                ...   \n",
      "22755     [2021, 2025]  nhân viên chăm sóc khách hàng nhân viên chăm s...   \n",
      "22756     [2021, 2025]  nhân viên chăm sóc khách hàng nhân viên chăm s...   \n",
      "22757     [2021, 2025]                  nhân viên tư vấn nhân viên tư vấn   \n",
      "22758     [2008, 2013]                                        nhóm trưởng   \n",
      "22759     [2008, 2013]                                     trưởng bộ phận   \n",
      "\n",
      "                               company         work_period  \\\n",
      "0                          Cổ phần IK   [2017-01, 2024-01]   \n",
      "1                   Công ty cổ phần IK   [2017-2020, None]   \n",
      "2                   Công ty cổ phần IK   [2020-2024, None]   \n",
      "3                 Bất động sản Nhà phố  [2023-01, 2024-01]   \n",
      "4                       Báo Thanh Niên  [2008-05, 2022-05]   \n",
      "...                                ...                 ...   \n",
      "22755                        Eva Lover  [2021-09, 2022-02]   \n",
      "22756                      CONNECT SIM  [2022-06, 2023-04]   \n",
      "22757                   Kiki Soft Ware  [2023-04, 2024-01]   \n",
      "22758      Cty Toàn cầu LIXIL Việt Nam  [2019-04, 2021-04]   \n",
      "22759  CÔNG TY TNHH MTV HOA SEN PHÚ MỸ        [2021, 2024]   \n",
      "\n",
      "                                school_predicted  school_confidence  \\\n",
      "0                        cao đẳng du lịch hà nội           0.997585   \n",
      "1                        cao đẳng du lịch hà nội           0.997585   \n",
      "2                        cao đẳng du lịch hà nội           0.997585   \n",
      "3          đại học kinh tế thành phố hồ chí minh           0.998759   \n",
      "4          đại học kinh tế thành phố hồ chí minh           0.998759   \n",
      "...                                          ...                ...   \n",
      "22755                           đại học thủy lợi           0.999867   \n",
      "22756                           đại học thủy lợi           0.999867   \n",
      "22757                           đại học thủy lợi           0.999867   \n",
      "22758  đại học công nghiệp thành phố hồ chí minh           0.999944   \n",
      "22759  đại học công nghiệp thành phố hồ chí minh           0.999944   \n",
      "\n",
      "           major_predicted  major_confidence start_date_school  \\\n",
      "0      quản trị kinh doanh          0.999998               -01   \n",
      "1      quản trị kinh doanh          0.999998               -01   \n",
      "2      quản trị kinh doanh          0.999998               -01   \n",
      "3      quản trị kinh doanh          0.999998               -01   \n",
      "4      quản trị kinh doanh          0.999998               -01   \n",
      "...                    ...               ...               ...   \n",
      "22755              kế toán          1.000004              2021   \n",
      "22756              kế toán          1.000004              2021   \n",
      "22757              kế toán          1.000004              2021   \n",
      "22758  tài chính ngân hàng          0.998399              2008   \n",
      "22759  tài chính ngân hàng          0.998399              2008   \n",
      "\n",
      "      end_date_school start_date_work end_date_work  end_year_school  \\\n",
      "0             2015-01         2017-01       2024-01             2015   \n",
      "1             2015-01       2017-2020          None             2015   \n",
      "2             2015-01       2020-2024          None             2015   \n",
      "3             2024-01         2023-01       2024-01             2024   \n",
      "4             2024-01         2008-05       2022-05             2024   \n",
      "...               ...             ...           ...              ...   \n",
      "22755            2025         2021-09       2022-02             2025   \n",
      "22756            2025         2022-06       2023-04             2025   \n",
      "22757            2025         2023-04       2024-01             2025   \n",
      "22758            2013         2019-04       2021-04             2013   \n",
      "22759            2013            2021          2024             2013   \n",
      "\n",
      "       start_year_work  end_year_work year_category  \n",
      "0                 2017           2024        [3, 5]  \n",
      "1                 2017           2020        [3, 5]  \n",
      "2                 2020           2024           [5]  \n",
      "3                 2023           2024           [0]  \n",
      "4                 2008           2022           [0]  \n",
      "...                ...            ...           ...  \n",
      "22755             2021           2022           [0]  \n",
      "22756             2022           2023           [0]  \n",
      "22757             2023           2024           [0]  \n",
      "22758             2019           2021            []  \n",
      "22759             2021           2024            []  \n",
      "\n",
      "[18701 rows x 18 columns]\n"
     ]
    }
   ],
   "source": [
    "print(f_data)"
   ]
  },
  {
   "cell_type": "code",
   "execution_count": 425,
   "id": "dcf3cf4b",
   "metadata": {},
   "outputs": [
    {
     "name": "stdout",
     "output_type": "stream",
     "text": [
      "2024-01\n"
     ]
    }
   ],
   "source": []
  }
 ],
 "metadata": {
  "kernelspec": {
   "display_name": "Python 3 (ipykernel)",
   "language": "python",
   "name": "python3"
  },
  "language_info": {
   "codemirror_mode": {
    "name": "ipython",
    "version": 3
   },
   "file_extension": ".py",
   "mimetype": "text/x-python",
   "name": "python",
   "nbconvert_exporter": "python",
   "pygments_lexer": "ipython3",
   "version": "3.11.7"
  }
 },
 "nbformat": 4,
 "nbformat_minor": 5
}
